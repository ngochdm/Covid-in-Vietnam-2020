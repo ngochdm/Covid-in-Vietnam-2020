{
 "cells": [
  {
   "cell_type": "code",
   "execution_count": 1,
   "metadata": {},
   "outputs": [
    {
     "name": "stderr",
     "output_type": "stream",
     "text": [
      "C:\\Users\\User\\anaconda3\\lib\\site-packages\\ipykernel_launcher.py:2: FutureWarning: The pandas.datetime class is deprecated and will be removed from pandas in a future version. Import from datetime module instead.\n",
      "  \n"
     ]
    }
   ],
   "source": [
    "import pandas as pd\n",
    "from pandas import datetime\n",
    "from statsmodels.tsa.arima_model import ARIMA\n",
    "import numpy as np\n",
    "#from matplotlib import pyplot"
   ]
  },
  {
   "cell_type": "code",
   "execution_count": 2,
   "metadata": {},
   "outputs": [
    {
     "data": {
      "text/html": [
       "<div>\n",
       "<style scoped>\n",
       "    .dataframe tbody tr th:only-of-type {\n",
       "        vertical-align: middle;\n",
       "    }\n",
       "\n",
       "    .dataframe tbody tr th {\n",
       "        vertical-align: top;\n",
       "    }\n",
       "\n",
       "    .dataframe thead th {\n",
       "        text-align: right;\n",
       "    }\n",
       "</style>\n",
       "<table border=\"1\" class=\"dataframe\">\n",
       "  <thead>\n",
       "    <tr style=\"text-align: right;\">\n",
       "      <th></th>\n",
       "      <th>Date</th>\n",
       "      <th>Total Cases</th>\n",
       "      <th>New Cases</th>\n",
       "      <th>Total Deaths</th>\n",
       "      <th>New Deaths</th>\n",
       "      <th>Total Recovered</th>\n",
       "      <th>New Recovered</th>\n",
       "      <th>Active Cases</th>\n",
       "      <th>Serious, Critical</th>\n",
       "      <th>Tot Cases/1M pop</th>\n",
       "      <th>Deaths/1M pop</th>\n",
       "      <th>Total Tests</th>\n",
       "      <th>Tests/1M pop</th>\n",
       "      <th>1 Case every X ppl</th>\n",
       "      <th>1 Death every X ppl</th>\n",
       "      <th>1 Test every X ppl</th>\n",
       "      <th>Tot Cases/1M ppl</th>\n",
       "    </tr>\n",
       "  </thead>\n",
       "  <tbody>\n",
       "    <tr>\n",
       "      <th>0</th>\n",
       "      <td>Date0809</td>\n",
       "      <td>841</td>\n",
       "      <td>29</td>\n",
       "      <td>11</td>\n",
       "      <td>1</td>\n",
       "      <td>395</td>\n",
       "      <td>0</td>\n",
       "      <td>435</td>\n",
       "      <td>0</td>\n",
       "      <td>9</td>\n",
       "      <td>1</td>\n",
       "      <td>482456</td>\n",
       "      <td>4952</td>\n",
       "      <td>115850</td>\n",
       "      <td>8857296</td>\n",
       "      <td>202</td>\n",
       "      <td>0</td>\n",
       "    </tr>\n",
       "    <tr>\n",
       "      <th>1</th>\n",
       "      <td>Date0810</td>\n",
       "      <td>841</td>\n",
       "      <td>0</td>\n",
       "      <td>13</td>\n",
       "      <td>2</td>\n",
       "      <td>399</td>\n",
       "      <td>4</td>\n",
       "      <td>429</td>\n",
       "      <td>0</td>\n",
       "      <td>9</td>\n",
       "      <td>0</td>\n",
       "      <td>482456</td>\n",
       "      <td>4952</td>\n",
       "      <td>115853</td>\n",
       "      <td>7494819</td>\n",
       "      <td>202</td>\n",
       "      <td>0</td>\n",
       "    </tr>\n",
       "    <tr>\n",
       "      <th>2</th>\n",
       "      <td>Date0811</td>\n",
       "      <td>866</td>\n",
       "      <td>19</td>\n",
       "      <td>16</td>\n",
       "      <td>1</td>\n",
       "      <td>399</td>\n",
       "      <td>0</td>\n",
       "      <td>451</td>\n",
       "      <td>0</td>\n",
       "      <td>9</td>\n",
       "      <td>2</td>\n",
       "      <td>482456</td>\n",
       "      <td>4951</td>\n",
       "      <td>112517</td>\n",
       "      <td>6089988</td>\n",
       "      <td>202</td>\n",
       "      <td>0</td>\n",
       "    </tr>\n",
       "    <tr>\n",
       "      <th>3</th>\n",
       "      <td>Date0812</td>\n",
       "      <td>883</td>\n",
       "      <td>17</td>\n",
       "      <td>17</td>\n",
       "      <td>1</td>\n",
       "      <td>409</td>\n",
       "      <td>10</td>\n",
       "      <td>457</td>\n",
       "      <td>0</td>\n",
       "      <td>9</td>\n",
       "      <td>2</td>\n",
       "      <td>621823</td>\n",
       "      <td>6382</td>\n",
       "      <td>110351</td>\n",
       "      <td>5731754</td>\n",
       "      <td>157</td>\n",
       "      <td>0</td>\n",
       "    </tr>\n",
       "    <tr>\n",
       "      <th>4</th>\n",
       "      <td>Date0813</td>\n",
       "      <td>911</td>\n",
       "      <td>28</td>\n",
       "      <td>21</td>\n",
       "      <td>4</td>\n",
       "      <td>425</td>\n",
       "      <td>16</td>\n",
       "      <td>465</td>\n",
       "      <td>0</td>\n",
       "      <td>9</td>\n",
       "      <td>2</td>\n",
       "      <td>621823</td>\n",
       "      <td>6381</td>\n",
       "      <td>106962</td>\n",
       "      <td>4640105</td>\n",
       "      <td>157</td>\n",
       "      <td>0</td>\n",
       "    </tr>\n",
       "  </tbody>\n",
       "</table>\n",
       "</div>"
      ],
      "text/plain": [
       "       Date  Total Cases  New Cases  Total Deaths  New Deaths  \\\n",
       "0  Date0809          841         29            11           1   \n",
       "1  Date0810          841          0            13           2   \n",
       "2  Date0811          866         19            16           1   \n",
       "3  Date0812          883         17            17           1   \n",
       "4  Date0813          911         28            21           4   \n",
       "\n",
       "   Total Recovered  New Recovered  Active Cases  Serious, Critical  \\\n",
       "0              395              0           435                  0   \n",
       "1              399              4           429                  0   \n",
       "2              399              0           451                  0   \n",
       "3              409             10           457                  0   \n",
       "4              425             16           465                  0   \n",
       "\n",
       "   Tot Cases/1M pop  Deaths/1M pop  Total Tests  Tests/1M pop  \\\n",
       "0                 9              1       482456          4952   \n",
       "1                 9              0       482456          4952   \n",
       "2                 9              2       482456          4951   \n",
       "3                 9              2       621823          6382   \n",
       "4                 9              2       621823          6381   \n",
       "\n",
       "   1 Case every X ppl  1 Death every X ppl  1 Test every X ppl  \\\n",
       "0              115850              8857296                 202   \n",
       "1              115853              7494819                 202   \n",
       "2              112517              6089988                 202   \n",
       "3              110351              5731754                 157   \n",
       "4              106962              4640105                 157   \n",
       "\n",
       "   Tot Cases/1M ppl  \n",
       "0                 0  \n",
       "1                 0  \n",
       "2                 0  \n",
       "3                 0  \n",
       "4                 0  "
      ]
     },
     "execution_count": 2,
     "metadata": {},
     "output_type": "execute_result"
    }
   ],
   "source": [
    "data = pd.read_csv('Vietnam_Corona_Worldometer.csv', index_col = 0)\n",
    "data.head()"
   ]
  },
  {
   "cell_type": "code",
   "execution_count": 3,
   "metadata": {},
   "outputs": [],
   "source": [
    "def parseTime(x):\n",
    "    return datetime.strptime('2020-' + x[-4:-2] + \"-\" + x[-2:], '%Y-%m-%d')"
   ]
  },
  {
   "cell_type": "code",
   "execution_count": 4,
   "metadata": {},
   "outputs": [],
   "source": [
    "date = []\n",
    "for d in data.Date:\n",
    "    date.append(parseTime(d))\n",
    "data[\"Date\"] = date"
   ]
  },
  {
   "cell_type": "code",
   "execution_count": 5,
   "metadata": {},
   "outputs": [
    {
     "data": {
      "text/plain": [
       "Date\n",
       "2020-08-09    841\n",
       "2020-08-10    841\n",
       "2020-08-11    866\n",
       "2020-08-12    883\n",
       "2020-08-13    911\n",
       "dtype: int64"
      ]
     },
     "execution_count": 5,
     "metadata": {},
     "output_type": "execute_result"
    }
   ],
   "source": [
    "df = pd.Series(data[\"Total Cases\"].values, index = data[\"Date\"])\n",
    "df.head()"
   ]
  },
  {
   "cell_type": "code",
   "execution_count": 6,
   "metadata": {},
   "outputs": [
    {
     "name": "stderr",
     "output_type": "stream",
     "text": [
      "C:\\Users\\User\\AppData\\Roaming\\Python\\Python37\\site-packages\\statsmodels\\tsa\\base\\tsa_model.py:162: ValueWarning: No frequency information was provided, so inferred frequency D will be used.\n",
      "  % freq, ValueWarning)\n",
      "C:\\Users\\User\\AppData\\Roaming\\Python\\Python37\\site-packages\\statsmodels\\tsa\\base\\tsa_model.py:162: ValueWarning: No frequency information was provided, so inferred frequency D will be used.\n",
      "  % freq, ValueWarning)\n"
     ]
    },
    {
     "name": "stdout",
     "output_type": "stream",
     "text": [
      "                             ARIMA Model Results                              \n",
      "==============================================================================\n",
      "Dep. Variable:                    D.y   No. Observations:                   39\n",
      "Model:                 ARIMA(5, 1, 0)   Log Likelihood                -122.340\n",
      "Method:                       css-mle   S.D. of innovations              5.474\n",
      "Date:                Mon, 21 Sep 2020   AIC                            258.681\n",
      "Time:                        23:00:19   BIC                            270.326\n",
      "Sample:                    08-10-2020   HQIC                           262.859\n",
      "                         - 09-17-2020                                         \n",
      "==============================================================================\n",
      "                 coef    std err          z      P>|z|      [0.025      0.975]\n",
      "------------------------------------------------------------------------------\n",
      "const          6.5902      4.278      1.540      0.123      -1.795      14.975\n",
      "ar.L1.D.y      0.2755      0.178      1.549      0.121      -0.073       0.624\n",
      "ar.L2.D.y      0.5115      0.183      2.796      0.005       0.153       0.870\n",
      "ar.L3.D.y     -0.2764      0.201     -1.378      0.168      -0.670       0.117\n",
      "ar.L4.D.y      0.0799      0.199      0.401      0.688      -0.311       0.470\n",
      "ar.L5.D.y      0.2449      0.193      1.267      0.205      -0.134       0.624\n",
      "                                    Roots                                    \n",
      "=============================================================================\n",
      "                  Real          Imaginary           Modulus         Frequency\n",
      "-----------------------------------------------------------------------------\n",
      "AR.1            1.0741           -0.0000j            1.0741           -0.0000\n",
      "AR.2            0.6519           -1.2108j            1.3751           -0.1714\n",
      "AR.3            0.6519           +1.2108j            1.3751            0.1714\n",
      "AR.4           -1.3522           -0.4269j            1.4180           -0.4513\n",
      "AR.5           -1.3522           +0.4269j            1.4180            0.4513\n",
      "-----------------------------------------------------------------------------\n"
     ]
    }
   ],
   "source": [
    "model = ARIMA(df, order=(5,1,0))\n",
    "model_fit = model.fit(disp=0)\n",
    "print(model_fit.summary())"
   ]
  },
  {
   "cell_type": "code",
   "execution_count": 7,
   "metadata": {},
   "outputs": [
    {
     "data": {
      "image/png": "[encoded data removed]",
      "text/plain": [
       "<Figure size 432x288 with 1 Axes>"
      ]
     },
     "execution_count": 7,
     "metadata": {},
     "output_type": "execute_result"
    },
    {
     "data": {
      "image/png": "[encoded data removed]",
      "text/plain": [
       "<Figure size 432x288 with 1 Axes>"
      ]
     },
     "metadata": {
      "needs_background": "light"
     },
     "output_type": "display_data"
    }
   ],
   "source": [
    "model_fit.plot_predict(dynamic=False)"
   ]
  },
  {
   "cell_type": "code",
   "execution_count": 8,
   "metadata": {},
   "outputs": [
    {
     "name": "stdout",
     "output_type": "stream",
     "text": [
      "Date 2020/9/18\t Predict: 1069.0\t Actual: 1068\n",
      "Date 2020/9/19\t Predict: 1071.0\t Actual: 1068\n",
      "Date 2020/9/20\t Predict: 1069.0\t Actual: 1068\n",
      "Date 2020/9/21\t Predict: 1069.0\t Actual: 1068\n",
      "Date 2020/9/22\t Predict: 1070.0\t Actual: nan\n"
     ]
    }
   ],
   "source": [
    "predicts = list()\n",
    "his = list(df.values)\n",
    "nextDays = [\"2020/9/18\", \"2020/9/19\", \"2020/9/20\", \"2020/9/21\", \"2020/9/22\"]\n",
    "actuals = [1068, 1068, 1068, 1068, np.NaN]\n",
    "for t in range(len(nextDays)):\n",
    "    model = ARIMA(his, order=(5,1,0))\n",
    "    model_fit = model.fit(disp=0)\n",
    "    output = round(model_fit.forecast()[0][0], 0)\n",
    "    predicts.append(output)\n",
    "    his.append(actuals[t])\n",
    "for i in range(len(nextDays)):\n",
    "    print(\"Date \" + str(nextDays[i]) + \"\\t Predict: \" + str(predicts[i]) \n",
    "          + \"\\t Actual: \" + str(actuals[i]))"
   ]
  },
  {
   "cell_type": "code",
   "execution_count": null,
   "metadata": {},
   "outputs": [],
   "source": []
  }
 ],
 "metadata": {
  "kernelspec": {
   "display_name": "Python 3",
   "language": "python",
   "name": "python3"
  },
  "language_info": {
   "codemirror_mode": {
    "name": "ipython",
    "version": 3
   },
   "file_extension": ".py",
   "mimetype": "text/x-python",
   "name": "python",
   "nbconvert_exporter": "python",
   "pygments_lexer": "ipython3",
   "version": "3.7.6"
  }
 },
 "nbformat": 4,
 "nbformat_minor": 4
}
