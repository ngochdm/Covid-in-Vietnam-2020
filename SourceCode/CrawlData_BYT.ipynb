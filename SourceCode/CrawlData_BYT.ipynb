{
 "cells": [
  {
   "cell_type": "code",
   "execution_count": 2,
   "metadata": {},
   "outputs": [],
   "source": [
    "from selenium import webdriver\n",
    "from requests_html import HTML\n",
    "import pandas as pd"
   ]
  },
  {
   "cell_type": "code",
   "execution_count": 3,
   "metadata": {},
   "outputs": [],
   "source": [
    "browser = webdriver.Chrome()\n",
    "browser.maximize_window()\n",
    "browser.get('https://ncov.moh.gov.vn/')\n",
    "findable_html = HTML(html=browser.page_source)"
   ]
  },
  {
   "cell_type": "code",
   "execution_count": 4,
   "metadata": {},
   "outputs": [],
   "source": [
    "rows = findable_html.find(\"tr\")"
   ]
  },
  {
   "cell_type": "code",
   "execution_count": 5,
   "metadata": {},
   "outputs": [
    {
     "data": {
      "text/plain": [
       "['Bệnh nhân',\n",
       " 'Tuổi',\n",
       " 'Thông tin dịch tễ',\n",
       " 'Địa điểm',\n",
       " 'Tình trạng',\n",
       " 'Quốc tịch']"
      ]
     },
     "execution_count": 5,
     "metadata": {},
     "output_type": "execute_result"
    }
   ],
   "source": [
    "cols = rows[0].text.split(\"\\n\")\n",
    "cols"
   ]
  },
  {
   "cell_type": "code",
   "execution_count": 6,
   "metadata": {},
   "outputs": [
    {
     "data": {
      "text/plain": [
       "'BN1066\\n38\\nThông tin dịch tễ\\nHà Nội\\nĐang điều trị\\nViệt Nam'"
      ]
     },
     "execution_count": 6,
     "metadata": {},
     "output_type": "execute_result"
    }
   ],
   "source": [
    "rows[1].text"
   ]
  },
  {
   "cell_type": "code",
   "execution_count": 7,
   "metadata": {},
   "outputs": [],
   "source": [
    "information = []\n",
    "for i in range(1, len(rows), 1):\n",
    "    info = rows[i].text.split(\"\\n\")\n",
    "    information.append(info)"
   ]
  },
  {
   "cell_type": "code",
   "execution_count": 8,
   "metadata": {},
   "outputs": [
    {
     "data": {
      "text/html": [
       "<div>\n",
       "<style scoped>\n",
       "    .dataframe tbody tr th:only-of-type {\n",
       "        vertical-align: middle;\n",
       "    }\n",
       "\n",
       "    .dataframe tbody tr th {\n",
       "        vertical-align: top;\n",
       "    }\n",
       "\n",
       "    .dataframe thead th {\n",
       "        text-align: right;\n",
       "    }\n",
       "</style>\n",
       "<table border=\"1\" class=\"dataframe\">\n",
       "  <thead>\n",
       "    <tr style=\"text-align: right;\">\n",
       "      <th></th>\n",
       "      <th>Bệnh nhân</th>\n",
       "      <th>Tuổi</th>\n",
       "      <th>Địa điểm</th>\n",
       "      <th>Tình trạng</th>\n",
       "      <th>Quốc tịch</th>\n",
       "    </tr>\n",
       "  </thead>\n",
       "  <tbody>\n",
       "    <tr>\n",
       "      <th>0</th>\n",
       "      <td>BN1066</td>\n",
       "      <td>38</td>\n",
       "      <td>Hà Nội</td>\n",
       "      <td>Đang điều trị</td>\n",
       "      <td>Việt Nam</td>\n",
       "    </tr>\n",
       "    <tr>\n",
       "      <th>1</th>\n",
       "      <td>BN1065</td>\n",
       "      <td>41</td>\n",
       "      <td>Hà Nội</td>\n",
       "      <td>Đang điều trị</td>\n",
       "      <td>Việt Nam</td>\n",
       "    </tr>\n",
       "    <tr>\n",
       "      <th>2</th>\n",
       "      <td>BN1064</td>\n",
       "      <td>37</td>\n",
       "      <td>Hà Nội</td>\n",
       "      <td>Đang điều trị</td>\n",
       "      <td>Việt Nam</td>\n",
       "    </tr>\n",
       "    <tr>\n",
       "      <th>3</th>\n",
       "      <td>BN1063</td>\n",
       "      <td>26</td>\n",
       "      <td>Phú Yên</td>\n",
       "      <td>Đang điều trị</td>\n",
       "      <td>Việt Nam</td>\n",
       "    </tr>\n",
       "    <tr>\n",
       "      <th>4</th>\n",
       "      <td>BN1062</td>\n",
       "      <td>24</td>\n",
       "      <td>Phú Yên</td>\n",
       "      <td>Đang điều trị</td>\n",
       "      <td>Việt Nam</td>\n",
       "    </tr>\n",
       "    <tr>\n",
       "      <th>...</th>\n",
       "      <td>...</td>\n",
       "      <td>...</td>\n",
       "      <td>...</td>\n",
       "      <td>...</td>\n",
       "      <td>...</td>\n",
       "    </tr>\n",
       "    <tr>\n",
       "      <th>1061</th>\n",
       "      <td>BN5</td>\n",
       "      <td>23</td>\n",
       "      <td>Vĩnh Phúc</td>\n",
       "      <td>Khỏi</td>\n",
       "      <td>Việt Nam</td>\n",
       "    </tr>\n",
       "    <tr>\n",
       "      <th>1062</th>\n",
       "      <td>BN4</td>\n",
       "      <td>29</td>\n",
       "      <td>Vĩnh Phúc</td>\n",
       "      <td>Khỏi</td>\n",
       "      <td>Việt Nam</td>\n",
       "    </tr>\n",
       "    <tr>\n",
       "      <th>1063</th>\n",
       "      <td>BN3</td>\n",
       "      <td>25</td>\n",
       "      <td>Thanh Hóa</td>\n",
       "      <td>Khỏi</td>\n",
       "      <td>Việt Nam</td>\n",
       "    </tr>\n",
       "    <tr>\n",
       "      <th>1064</th>\n",
       "      <td>BN2</td>\n",
       "      <td>28</td>\n",
       "      <td>Hồ Chí Minh</td>\n",
       "      <td>Khỏi</td>\n",
       "      <td>Trung Quốc</td>\n",
       "    </tr>\n",
       "    <tr>\n",
       "      <th>1065</th>\n",
       "      <td>BN1</td>\n",
       "      <td>66</td>\n",
       "      <td>Hồ Chí Minh</td>\n",
       "      <td>Khỏi</td>\n",
       "      <td>Trung Quốc</td>\n",
       "    </tr>\n",
       "  </tbody>\n",
       "</table>\n",
       "<p>1066 rows × 5 columns</p>\n",
       "</div>"
      ],
      "text/plain": [
       "     Bệnh nhân Tuổi     Địa điểm     Tình trạng   Quốc tịch\n",
       "0       BN1066   38       Hà Nội  Đang điều trị    Việt Nam\n",
       "1       BN1065   41       Hà Nội  Đang điều trị    Việt Nam\n",
       "2       BN1064   37       Hà Nội  Đang điều trị    Việt Nam\n",
       "3       BN1063   26      Phú Yên  Đang điều trị    Việt Nam\n",
       "4       BN1062   24      Phú Yên  Đang điều trị    Việt Nam\n",
       "...        ...  ...          ...            ...         ...\n",
       "1061       BN5   23    Vĩnh Phúc           Khỏi    Việt Nam\n",
       "1062       BN4   29    Vĩnh Phúc           Khỏi    Việt Nam\n",
       "1063       BN3   25    Thanh Hóa           Khỏi    Việt Nam\n",
       "1064       BN2   28  Hồ Chí Minh           Khỏi  Trung Quốc\n",
       "1065       BN1   66  Hồ Chí Minh           Khỏi  Trung Quốc\n",
       "\n",
       "[1066 rows x 5 columns]"
      ]
     },
     "execution_count": 8,
     "metadata": {},
     "output_type": "execute_result"
    }
   ],
   "source": [
    "df = pd.DataFrame(information, columns = cols).drop(['Thông tin dịch tễ'], axis = 1)\n",
    "df"
   ]
  },
  {
   "cell_type": "code",
   "execution_count": 9,
   "metadata": {},
   "outputs": [
    {
     "data": {
      "text/html": [
       "<div>\n",
       "<style scoped>\n",
       "    .dataframe tbody tr th:only-of-type {\n",
       "        vertical-align: middle;\n",
       "    }\n",
       "\n",
       "    .dataframe tbody tr th {\n",
       "        vertical-align: top;\n",
       "    }\n",
       "\n",
       "    .dataframe thead th {\n",
       "        text-align: right;\n",
       "    }\n",
       "</style>\n",
       "<table border=\"1\" class=\"dataframe\">\n",
       "  <thead>\n",
       "    <tr style=\"text-align: right;\">\n",
       "      <th></th>\n",
       "      <th>ID</th>\n",
       "      <th>Age</th>\n",
       "      <th>Province</th>\n",
       "      <th>Status</th>\n",
       "      <th>Nationality</th>\n",
       "    </tr>\n",
       "  </thead>\n",
       "  <tbody>\n",
       "    <tr>\n",
       "      <th>0</th>\n",
       "      <td>BN1066</td>\n",
       "      <td>38</td>\n",
       "      <td>Hà Nội</td>\n",
       "      <td>Đang điều trị</td>\n",
       "      <td>Việt Nam</td>\n",
       "    </tr>\n",
       "    <tr>\n",
       "      <th>1</th>\n",
       "      <td>BN1065</td>\n",
       "      <td>41</td>\n",
       "      <td>Hà Nội</td>\n",
       "      <td>Đang điều trị</td>\n",
       "      <td>Việt Nam</td>\n",
       "    </tr>\n",
       "    <tr>\n",
       "      <th>2</th>\n",
       "      <td>BN1064</td>\n",
       "      <td>37</td>\n",
       "      <td>Hà Nội</td>\n",
       "      <td>Đang điều trị</td>\n",
       "      <td>Việt Nam</td>\n",
       "    </tr>\n",
       "    <tr>\n",
       "      <th>3</th>\n",
       "      <td>BN1063</td>\n",
       "      <td>26</td>\n",
       "      <td>Phú Yên</td>\n",
       "      <td>Đang điều trị</td>\n",
       "      <td>Việt Nam</td>\n",
       "    </tr>\n",
       "    <tr>\n",
       "      <th>4</th>\n",
       "      <td>BN1062</td>\n",
       "      <td>24</td>\n",
       "      <td>Phú Yên</td>\n",
       "      <td>Đang điều trị</td>\n",
       "      <td>Việt Nam</td>\n",
       "    </tr>\n",
       "    <tr>\n",
       "      <th>...</th>\n",
       "      <td>...</td>\n",
       "      <td>...</td>\n",
       "      <td>...</td>\n",
       "      <td>...</td>\n",
       "      <td>...</td>\n",
       "    </tr>\n",
       "    <tr>\n",
       "      <th>1061</th>\n",
       "      <td>BN5</td>\n",
       "      <td>23</td>\n",
       "      <td>Vĩnh Phúc</td>\n",
       "      <td>Khỏi</td>\n",
       "      <td>Việt Nam</td>\n",
       "    </tr>\n",
       "    <tr>\n",
       "      <th>1062</th>\n",
       "      <td>BN4</td>\n",
       "      <td>29</td>\n",
       "      <td>Vĩnh Phúc</td>\n",
       "      <td>Khỏi</td>\n",
       "      <td>Việt Nam</td>\n",
       "    </tr>\n",
       "    <tr>\n",
       "      <th>1063</th>\n",
       "      <td>BN3</td>\n",
       "      <td>25</td>\n",
       "      <td>Thanh Hóa</td>\n",
       "      <td>Khỏi</td>\n",
       "      <td>Việt Nam</td>\n",
       "    </tr>\n",
       "    <tr>\n",
       "      <th>1064</th>\n",
       "      <td>BN2</td>\n",
       "      <td>28</td>\n",
       "      <td>Hồ Chí Minh</td>\n",
       "      <td>Khỏi</td>\n",
       "      <td>Trung Quốc</td>\n",
       "    </tr>\n",
       "    <tr>\n",
       "      <th>1065</th>\n",
       "      <td>BN1</td>\n",
       "      <td>66</td>\n",
       "      <td>Hồ Chí Minh</td>\n",
       "      <td>Khỏi</td>\n",
       "      <td>Trung Quốc</td>\n",
       "    </tr>\n",
       "  </tbody>\n",
       "</table>\n",
       "<p>1066 rows × 5 columns</p>\n",
       "</div>"
      ],
      "text/plain": [
       "          ID Age     Province         Status Nationality\n",
       "0     BN1066  38       Hà Nội  Đang điều trị    Việt Nam\n",
       "1     BN1065  41       Hà Nội  Đang điều trị    Việt Nam\n",
       "2     BN1064  37       Hà Nội  Đang điều trị    Việt Nam\n",
       "3     BN1063  26      Phú Yên  Đang điều trị    Việt Nam\n",
       "4     BN1062  24      Phú Yên  Đang điều trị    Việt Nam\n",
       "...      ...  ..          ...            ...         ...\n",
       "1061     BN5  23    Vĩnh Phúc           Khỏi    Việt Nam\n",
       "1062     BN4  29    Vĩnh Phúc           Khỏi    Việt Nam\n",
       "1063     BN3  25    Thanh Hóa           Khỏi    Việt Nam\n",
       "1064     BN2  28  Hồ Chí Minh           Khỏi  Trung Quốc\n",
       "1065     BN1  66  Hồ Chí Minh           Khỏi  Trung Quốc\n",
       "\n",
       "[1066 rows x 5 columns]"
      ]
     },
     "execution_count": 9,
     "metadata": {},
     "output_type": "execute_result"
    }
   ],
   "source": [
    "df = df.rename(columns = {'Bệnh nhân': 'ID', 'Tuổi': 'Age', 'Địa điểm': 'Province', 'Tình trạng': 'Status', 'Quốc tịch': 'Nationality'})\n",
    "df"
   ]
  },
  {
   "cell_type": "code",
   "execution_count": 10,
   "metadata": {},
   "outputs": [],
   "source": [
    "df.to_csv(\"covid19inVN.csv\", index=False)"
   ]
  },
  {
   "cell_type": "code",
   "execution_count": null,
   "metadata": {},
   "outputs": [],
   "source": []
  }
 ],
 "metadata": {
  "kernelspec": {
   "display_name": "Python 3",
   "language": "python",
   "name": "python3"
  },
  "language_info": {
   "codemirror_mode": {
    "name": "ipython",
    "version": 3
   },
   "file_extension": ".py",
   "mimetype": "text/x-python",
   "name": "python",
   "nbconvert_exporter": "python",
   "pygments_lexer": "ipython3",
   "version": "3.7.6"
  }
 },
 "nbformat": 4,
 "nbformat_minor": 4
}
