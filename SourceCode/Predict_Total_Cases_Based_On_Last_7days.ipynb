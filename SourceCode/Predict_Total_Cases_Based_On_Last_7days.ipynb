{
 "cells": [
  {
   "cell_type": "code",
   "execution_count": 1,
   "metadata": {},
   "outputs": [],
   "source": [
    "import pandas as pd\n",
    "from sklearn.model_selection import train_test_split\n",
    "from sklearn.linear_model import LinearRegression as LR\n",
    "from sklearn.metrics import mean_squared_error as MSE\n",
    "import numpy as np\n",
    "import statsmodels.api as sm"
   ]
  },
  {
   "cell_type": "code",
   "execution_count": 2,
   "metadata": {},
   "outputs": [
    {
     "data": {
      "text/html": [
       "<div>\n",
       "<style scoped>\n",
       "    .dataframe tbody tr th:only-of-type {\n",
       "        vertical-align: middle;\n",
       "    }\n",
       "\n",
       "    .dataframe tbody tr th {\n",
       "        vertical-align: top;\n",
       "    }\n",
       "\n",
       "    .dataframe thead th {\n",
       "        text-align: right;\n",
       "    }\n",
       "</style>\n",
       "<table border=\"1\" class=\"dataframe\">\n",
       "  <thead>\n",
       "    <tr style=\"text-align: right;\">\n",
       "      <th></th>\n",
       "      <th>Day</th>\n",
       "      <th>Date</th>\n",
       "      <th>Total Cases</th>\n",
       "      <th>New Cases</th>\n",
       "      <th>Total Deaths</th>\n",
       "      <th>New Deaths</th>\n",
       "      <th>Total Recovered</th>\n",
       "      <th>New Recovered</th>\n",
       "      <th>Active Cases</th>\n",
       "      <th>Serious, Critical</th>\n",
       "      <th>Tot Cases/1M pop</th>\n",
       "      <th>Deaths/1M pop</th>\n",
       "      <th>Total Tests</th>\n",
       "      <th>Tests/1M pop</th>\n",
       "      <th>1 Case every X ppl</th>\n",
       "      <th>1 Death every X ppl</th>\n",
       "      <th>1 Test every X ppl</th>\n",
       "      <th>Tot Cases/1M ppl</th>\n",
       "    </tr>\n",
       "  </thead>\n",
       "  <tbody>\n",
       "    <tr>\n",
       "      <th>0</th>\n",
       "      <td>0</td>\n",
       "      <td>Date0809</td>\n",
       "      <td>841</td>\n",
       "      <td>29</td>\n",
       "      <td>11</td>\n",
       "      <td>1</td>\n",
       "      <td>395</td>\n",
       "      <td>0</td>\n",
       "      <td>435</td>\n",
       "      <td>0</td>\n",
       "      <td>9</td>\n",
       "      <td>1</td>\n",
       "      <td>482456</td>\n",
       "      <td>4952</td>\n",
       "      <td>115850</td>\n",
       "      <td>8857296</td>\n",
       "      <td>202</td>\n",
       "      <td>0</td>\n",
       "    </tr>\n",
       "    <tr>\n",
       "      <th>1</th>\n",
       "      <td>1</td>\n",
       "      <td>Date0810</td>\n",
       "      <td>841</td>\n",
       "      <td>0</td>\n",
       "      <td>13</td>\n",
       "      <td>2</td>\n",
       "      <td>399</td>\n",
       "      <td>4</td>\n",
       "      <td>429</td>\n",
       "      <td>0</td>\n",
       "      <td>9</td>\n",
       "      <td>0</td>\n",
       "      <td>482456</td>\n",
       "      <td>4952</td>\n",
       "      <td>115853</td>\n",
       "      <td>7494819</td>\n",
       "      <td>202</td>\n",
       "      <td>0</td>\n",
       "    </tr>\n",
       "    <tr>\n",
       "      <th>2</th>\n",
       "      <td>2</td>\n",
       "      <td>Date0811</td>\n",
       "      <td>866</td>\n",
       "      <td>19</td>\n",
       "      <td>16</td>\n",
       "      <td>1</td>\n",
       "      <td>399</td>\n",
       "      <td>0</td>\n",
       "      <td>451</td>\n",
       "      <td>0</td>\n",
       "      <td>9</td>\n",
       "      <td>2</td>\n",
       "      <td>482456</td>\n",
       "      <td>4951</td>\n",
       "      <td>112517</td>\n",
       "      <td>6089988</td>\n",
       "      <td>202</td>\n",
       "      <td>0</td>\n",
       "    </tr>\n",
       "    <tr>\n",
       "      <th>3</th>\n",
       "      <td>3</td>\n",
       "      <td>Date0812</td>\n",
       "      <td>883</td>\n",
       "      <td>17</td>\n",
       "      <td>17</td>\n",
       "      <td>1</td>\n",
       "      <td>409</td>\n",
       "      <td>10</td>\n",
       "      <td>457</td>\n",
       "      <td>0</td>\n",
       "      <td>9</td>\n",
       "      <td>2</td>\n",
       "      <td>621823</td>\n",
       "      <td>6382</td>\n",
       "      <td>110351</td>\n",
       "      <td>5731754</td>\n",
       "      <td>157</td>\n",
       "      <td>0</td>\n",
       "    </tr>\n",
       "    <tr>\n",
       "      <th>4</th>\n",
       "      <td>4</td>\n",
       "      <td>Date0813</td>\n",
       "      <td>911</td>\n",
       "      <td>28</td>\n",
       "      <td>21</td>\n",
       "      <td>4</td>\n",
       "      <td>425</td>\n",
       "      <td>16</td>\n",
       "      <td>465</td>\n",
       "      <td>0</td>\n",
       "      <td>9</td>\n",
       "      <td>2</td>\n",
       "      <td>621823</td>\n",
       "      <td>6381</td>\n",
       "      <td>106962</td>\n",
       "      <td>4640105</td>\n",
       "      <td>157</td>\n",
       "      <td>0</td>\n",
       "    </tr>\n",
       "  </tbody>\n",
       "</table>\n",
       "</div>"
      ],
      "text/plain": [
       "   Day      Date  Total Cases  New Cases  Total Deaths  New Deaths  \\\n",
       "0    0  Date0809          841         29            11           1   \n",
       "1    1  Date0810          841          0            13           2   \n",
       "2    2  Date0811          866         19            16           1   \n",
       "3    3  Date0812          883         17            17           1   \n",
       "4    4  Date0813          911         28            21           4   \n",
       "\n",
       "   Total Recovered  New Recovered  Active Cases  Serious, Critical  \\\n",
       "0              395              0           435                  0   \n",
       "1              399              4           429                  0   \n",
       "2              399              0           451                  0   \n",
       "3              409             10           457                  0   \n",
       "4              425             16           465                  0   \n",
       "\n",
       "   Tot Cases/1M pop  Deaths/1M pop  Total Tests  Tests/1M pop  \\\n",
       "0                 9              1       482456          4952   \n",
       "1                 9              0       482456          4952   \n",
       "2                 9              2       482456          4951   \n",
       "3                 9              2       621823          6382   \n",
       "4                 9              2       621823          6381   \n",
       "\n",
       "   1 Case every X ppl  1 Death every X ppl  1 Test every X ppl  \\\n",
       "0              115850              8857296                 202   \n",
       "1              115853              7494819                 202   \n",
       "2              112517              6089988                 202   \n",
       "3              110351              5731754                 157   \n",
       "4              106962              4640105                 157   \n",
       "\n",
       "   Tot Cases/1M ppl  \n",
       "0                 0  \n",
       "1                 0  \n",
       "2                 0  \n",
       "3                 0  \n",
       "4                 0  "
      ]
     },
     "execution_count": 2,
     "metadata": {},
     "output_type": "execute_result"
    }
   ],
   "source": [
    "df = pd.read_csv('Vietnam_Corona_Worldometer.csv')\n",
    "df = pd.DataFrame(df).rename(columns={'Unnamed: 0':'Day'})\n",
    "df.head()"
   ]
  },
  {
   "cell_type": "code",
   "execution_count": 3,
   "metadata": {},
   "outputs": [],
   "source": [
    "data = df['Total Cases']"
   ]
  },
  {
   "cell_type": "code",
   "execution_count": 4,
   "metadata": {},
   "outputs": [],
   "source": [
    "X = []\n",
    "y = []\n",
    "d = 7\n",
    "\n",
    "for i in range(0, 30, 1):\n",
    "    x_tmp = []\n",
    "    for j in range(0, d, 1):\n",
    "        x_tmp.append(data[i + j])\n",
    "    y.append(data[i + d])\n",
    "    X.append(x_tmp)"
   ]
  },
  {
   "cell_type": "code",
   "execution_count": 5,
   "metadata": {},
   "outputs": [],
   "source": [
    "X_test = []\n",
    "X_test.append(np.array(data[-d:]))\n",
    "X_test.append([1060, 1063, 1063, 1063, 1063, 1066, 1068])\n",
    "y_test = [1068, 1068]"
   ]
  },
  {
   "cell_type": "markdown",
   "metadata": {},
   "source": [
    "# Functions"
   ]
  },
  {
   "cell_type": "code",
   "execution_count": 6,
   "metadata": {},
   "outputs": [],
   "source": [
    "def predictions(model, X_test):\n",
    "    res = model.predict(X_test).round()\n",
    "    for i in range(len(res)):\n",
    "        if res[i] < X_test[i][-1]:\n",
    "            res[i] = X_test[i][-1]\n",
    "    return res\n",
    "def printFormula(coef_, intercept_):\n",
    "    col_name = [\"Day_7\", \"Day_6\", \"Day_5\", \"Day_4\", \"Day_3\", \"Day_2\", \"Day_1\"]\n",
    "    formula = str(round(intercept_, 2))\n",
    "    for i in range(len(col_name)):\n",
    "        formula = formula + \" + \" + str(round(coef_[i], 2)) + \"*\" + col_name[i]\n",
    "    return formula"
   ]
  },
  {
   "cell_type": "markdown",
   "metadata": {},
   "source": [
    "# Sklearn"
   ]
  },
  {
   "cell_type": "code",
   "execution_count": 7,
   "metadata": {},
   "outputs": [],
   "source": [
    "#sklearn\n",
    "model1 = LR().fit(X, y)"
   ]
  },
  {
   "cell_type": "code",
   "execution_count": 8,
   "metadata": {},
   "outputs": [
    {
     "name": "stdout",
     "output_type": "stream",
     "text": [
      "Formula of model\n",
      "217.78 + 0.02*Day_7 + -0.2*Day_6 + 0.36*Day_5 + 0.11*Day_4 + -0.15*Day_3 + 0.06*Day_2 + 0.6*Day_1\n"
     ]
    }
   ],
   "source": [
    "print(\"Formula of model\")\n",
    "print(printFormula(model1.coef_, model1.intercept_))"
   ]
  },
  {
   "cell_type": "code",
   "execution_count": 9,
   "metadata": {},
   "outputs": [
    {
     "data": {
      "text/plain": [
       "7.6"
      ]
     },
     "execution_count": 9,
     "metadata": {},
     "output_type": "execute_result"
    }
   ],
   "source": [
    "y_pred1 = predictions(model1, X)\n",
    "mse1 = MSE(y_pred1, y)\n",
    "mse1"
   ]
  },
  {
   "cell_type": "code",
   "execution_count": 10,
   "metadata": {},
   "outputs": [
    {
     "data": {
      "text/plain": [
       "array([1066., 1068.])"
      ]
     },
     "execution_count": 10,
     "metadata": {},
     "output_type": "execute_result"
    }
   ],
   "source": [
    "predictions1 = predictions(model1, X_test)\n",
    "predictions1"
   ]
  },
  {
   "cell_type": "markdown",
   "metadata": {},
   "source": [
    "# Statsmodels.api"
   ]
  },
  {
   "cell_type": "code",
   "execution_count": 11,
   "metadata": {},
   "outputs": [],
   "source": [
    "#statsmodels.api\n",
    "model2 = sm.OLS(y, X).fit()"
   ]
  },
  {
   "cell_type": "code",
   "execution_count": 12,
   "metadata": {},
   "outputs": [
    {
     "name": "stdout",
     "output_type": "stream",
     "text": [
      "Formula of model\n",
      "0 + -0.09*Day_7 + -0.36*Day_6 + 0.43*Day_5 + 0.09*Day_4 + -0.12*Day_3 + 0.17*Day_2 + 0.87*Day_1\n"
     ]
    }
   ],
   "source": [
    "print(\"Formula of model\")\n",
    "print(printFormula(model2.params, 0))"
   ]
  },
  {
   "cell_type": "code",
   "execution_count": 13,
   "metadata": {},
   "outputs": [
    {
     "data": {
      "text/plain": [
       "10.666666666666666"
      ]
     },
     "execution_count": 13,
     "metadata": {},
     "output_type": "execute_result"
    }
   ],
   "source": [
    "y_pred2 = predictions(model2, X)\n",
    "mse2 = MSE(y_pred2, y)\n",
    "mse2"
   ]
  },
  {
   "cell_type": "code",
   "execution_count": 14,
   "metadata": {},
   "outputs": [
    {
     "data": {
      "text/plain": [
       "array([1068., 1069.])"
      ]
     },
     "execution_count": 14,
     "metadata": {},
     "output_type": "execute_result"
    }
   ],
   "source": [
    "predictions2 = predictions(model2, X_test)\n",
    "predictions2"
   ]
  },
  {
   "cell_type": "markdown",
   "metadata": {},
   "source": [
    "# Hypothesis test"
   ]
  },
  {
   "cell_type": "code",
   "execution_count": 15,
   "metadata": {},
   "outputs": [
    {
     "data": {
      "text/html": [
       "<table class=\"simpletable\">\n",
       "<caption>OLS Regression Results</caption>\n",
       "<tr>\n",
       "  <th>Dep. Variable:</th>            <td>y</td>        <th>  R-squared (uncentered):</th>      <td>   1.000</td> \n",
       "</tr>\n",
       "<tr>\n",
       "  <th>Model:</th>                   <td>OLS</td>       <th>  Adj. R-squared (uncentered):</th> <td>   1.000</td> \n",
       "</tr>\n",
       "<tr>\n",
       "  <th>Method:</th>             <td>Least Squares</td>  <th>  F-statistic:       </th>          <td>3.456e+05</td>\n",
       "</tr>\n",
       "<tr>\n",
       "  <th>Date:</th>             <td>Sun, 20 Sep 2020</td> <th>  Prob (F-statistic):</th>          <td>3.39e-56</td> \n",
       "</tr>\n",
       "<tr>\n",
       "  <th>Time:</th>                 <td>00:16:06</td>     <th>  Log-Likelihood:    </th>          <td> -77.315</td> \n",
       "</tr>\n",
       "<tr>\n",
       "  <th>No. Observations:</th>      <td>    30</td>      <th>  AIC:               </th>          <td>   168.6</td> \n",
       "</tr>\n",
       "<tr>\n",
       "  <th>Df Residuals:</th>          <td>    23</td>      <th>  BIC:               </th>          <td>   178.4</td> \n",
       "</tr>\n",
       "<tr>\n",
       "  <th>Df Model:</th>              <td>     7</td>      <th>                     </th>              <td> </td>    \n",
       "</tr>\n",
       "<tr>\n",
       "  <th>Covariance Type:</th>      <td>nonrobust</td>    <th>                     </th>              <td> </td>    \n",
       "</tr>\n",
       "</table>\n",
       "<table class=\"simpletable\">\n",
       "<tr>\n",
       "   <td></td>     <th>coef</th>     <th>std err</th>      <th>t</th>      <th>P>|t|</th>  <th>[0.025</th>    <th>0.975]</th>  \n",
       "</tr>\n",
       "<tr>\n",
       "  <th>x1</th> <td>   -0.0857</td> <td>    0.112</td> <td>   -0.768</td> <td> 0.450</td> <td>   -0.317</td> <td>    0.145</td>\n",
       "</tr>\n",
       "<tr>\n",
       "  <th>x2</th> <td>   -0.3595</td> <td>    0.185</td> <td>   -1.942</td> <td> 0.065</td> <td>   -0.742</td> <td>    0.023</td>\n",
       "</tr>\n",
       "<tr>\n",
       "  <th>x3</th> <td>    0.4302</td> <td>    0.216</td> <td>    1.995</td> <td> 0.058</td> <td>   -0.016</td> <td>    0.876</td>\n",
       "</tr>\n",
       "<tr>\n",
       "  <th>x4</th> <td>    0.0929</td> <td>    0.231</td> <td>    0.402</td> <td> 0.691</td> <td>   -0.385</td> <td>    0.571</td>\n",
       "</tr>\n",
       "<tr>\n",
       "  <th>x5</th> <td>   -0.1191</td> <td>    0.235</td> <td>   -0.507</td> <td> 0.617</td> <td>   -0.605</td> <td>    0.367</td>\n",
       "</tr>\n",
       "<tr>\n",
       "  <th>x6</th> <td>    0.1702</td> <td>    0.235</td> <td>    0.724</td> <td> 0.476</td> <td>   -0.316</td> <td>    0.656</td>\n",
       "</tr>\n",
       "<tr>\n",
       "  <th>x7</th> <td>    0.8718</td> <td>    0.165</td> <td>    5.298</td> <td> 0.000</td> <td>    0.531</td> <td>    1.212</td>\n",
       "</tr>\n",
       "</table>\n",
       "<table class=\"simpletable\">\n",
       "<tr>\n",
       "  <th>Omnibus:</th>       <td> 3.441</td> <th>  Durbin-Watson:     </th> <td>   2.545</td>\n",
       "</tr>\n",
       "<tr>\n",
       "  <th>Prob(Omnibus):</th> <td> 0.179</td> <th>  Jarque-Bera (JB):  </th> <td>   1.993</td>\n",
       "</tr>\n",
       "<tr>\n",
       "  <th>Skew:</th>          <td>-0.427</td> <th>  Prob(JB):          </th> <td>   0.369</td>\n",
       "</tr>\n",
       "<tr>\n",
       "  <th>Kurtosis:</th>      <td> 3.930</td> <th>  Cond. No.          </th> <td>1.25e+03</td>\n",
       "</tr>\n",
       "</table><br/><br/>Warnings:<br/>[1] Standard Errors assume that the covariance matrix of the errors is correctly specified.<br/>[2] The condition number is large, 1.25e+03. This might indicate that there are<br/>strong multicollinearity or other numerical problems."
      ],
      "text/plain": [
       "<class 'statsmodels.iolib.summary.Summary'>\n",
       "\"\"\"\n",
       "                                 OLS Regression Results                                \n",
       "=======================================================================================\n",
       "Dep. Variable:                      y   R-squared (uncentered):                   1.000\n",
       "Model:                            OLS   Adj. R-squared (uncentered):              1.000\n",
       "Method:                 Least Squares   F-statistic:                          3.456e+05\n",
       "Date:                Sun, 20 Sep 2020   Prob (F-statistic):                    3.39e-56\n",
       "Time:                        00:16:06   Log-Likelihood:                         -77.315\n",
       "No. Observations:                  30   AIC:                                      168.6\n",
       "Df Residuals:                      23   BIC:                                      178.4\n",
       "Df Model:                           7                                                  \n",
       "Covariance Type:            nonrobust                                                  \n",
       "==============================================================================\n",
       "                 coef    std err          t      P>|t|      [0.025      0.975]\n",
       "------------------------------------------------------------------------------\n",
       "x1            -0.0857      0.112     -0.768      0.450      -0.317       0.145\n",
       "x2            -0.3595      0.185     -1.942      0.065      -0.742       0.023\n",
       "x3             0.4302      0.216      1.995      0.058      -0.016       0.876\n",
       "x4             0.0929      0.231      0.402      0.691      -0.385       0.571\n",
       "x5            -0.1191      0.235     -0.507      0.617      -0.605       0.367\n",
       "x6             0.1702      0.235      0.724      0.476      -0.316       0.656\n",
       "x7             0.8718      0.165      5.298      0.000       0.531       1.212\n",
       "==============================================================================\n",
       "Omnibus:                        3.441   Durbin-Watson:                   2.545\n",
       "Prob(Omnibus):                  0.179   Jarque-Bera (JB):                1.993\n",
       "Skew:                          -0.427   Prob(JB):                        0.369\n",
       "Kurtosis:                       3.930   Cond. No.                     1.25e+03\n",
       "==============================================================================\n",
       "\n",
       "Warnings:\n",
       "[1] Standard Errors assume that the covariance matrix of the errors is correctly specified.\n",
       "[2] The condition number is large, 1.25e+03. This might indicate that there are\n",
       "strong multicollinearity or other numerical problems.\n",
       "\"\"\""
      ]
     },
     "execution_count": 15,
     "metadata": {},
     "output_type": "execute_result"
    }
   ],
   "source": [
    "model2.summary()"
   ]
  },
  {
   "cell_type": "code",
   "execution_count": null,
   "metadata": {},
   "outputs": [],
   "source": []
  }
 ],
 "metadata": {
  "kernelspec": {
   "display_name": "Python 3",
   "language": "python",
   "name": "python3"
  },
  "language_info": {
   "codemirror_mode": {
    "name": "ipython",
    "version": 3
   },
   "file_extension": ".py",
   "mimetype": "text/x-python",
   "name": "python",
   "nbconvert_exporter": "python",
   "pygments_lexer": "ipython3",
   "version": "3.7.6"
  }
 },
 "nbformat": 4,
 "nbformat_minor": 4
}
