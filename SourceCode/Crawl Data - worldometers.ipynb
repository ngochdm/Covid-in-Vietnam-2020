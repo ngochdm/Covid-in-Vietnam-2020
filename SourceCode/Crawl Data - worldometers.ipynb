{
 "cells": [
  {
   "cell_type": "markdown",
   "metadata": {},
   "source": [
    "# Remember: CHANGE FILE's NAME BEFORE RUN THIS FILE"
   ]
  },
  {
   "cell_type": "code",
   "execution_count": 1,
   "metadata": {},
   "outputs": [],
   "source": [
    "import numpy as np\n",
    "import seaborn as sns\n",
    "import matplotlib.pyplot as plt\n",
    "import pandas as pd\n",
    "import requests\n",
    "import os\n",
    "import datetime\n",
    "import lxml\n",
    "from bs4 import BeautifulSoup"
   ]
  },
  {
   "cell_type": "code",
   "execution_count": 2,
   "metadata": {},
   "outputs": [],
   "source": [
    "def text_to_int(str):\n",
    "    return str.replace('+','').replace(',','').replace('.','').replace(' ','').replace('N/A','')\n",
    "def gettingData(date=0):\n",
    "    url = 'https://www.worldometers.info/coronavirus/'\n",
    "    req = requests.get(url)\n",
    "    html_source = req.text\n",
    "\n",
    "    # parsing it to beautiful soup\n",
    "    soup = BeautifulSoup(html_source, 'html.parser')\n",
    "    '''\n",
    "    table = soup.find_all(\"tbody\")\n",
    "    table_rows = table[date*3].find_all('tr')\n",
    "    '''\n",
    "    table_rows = soup.findAll(\"table\", {\"id\": date})[0].findAll('tr')[9:9+215]\n",
    "\n",
    "    data = []\n",
    "    another = []\n",
    "\n",
    "    for i in range(len(table_rows)):\n",
    "        row = []\n",
    "        tag = table_rows[i].find(name = 'a', href = True)\n",
    "        if tag is not None:\n",
    "            row.append(tag.get_text()) #country\n",
    "            td = table_rows[i].find_all(name='td')\n",
    "            for j in range(2, 19, 1):\n",
    "                if j != 15:\n",
    "                    row.append(text_to_int(td[j].text.strip()))\n",
    "\n",
    "            region = td[15].text.strip()\n",
    "            if len(region): row.append(region)\n",
    "            else: row.append(\"N/A\")\n",
    "\n",
    "            data.append(row)\n",
    "\n",
    "        else:\n",
    "            another.append(i) #no data at i-th row\n",
    "    return data\n",
    "def exportCSVfile(data, fileName):\n",
    "    columns = [\"Country\", \"Total Cases\", \"New Cases\", \"Total Deaths\", \"New Deaths\", \n",
    "           \"Total Recovered\", \"New Recovered\", \"Active Cases\", \"Serious, Critical\", \n",
    "           \"Tot Cases/1M pop\", \"Deaths/1M pop\", \"Total Tests\", \"Tests/1M pop\", \"Population\", \n",
    "           \"1 Case every X ppl\", \"1 Death every X ppl\", \"1 Test every X ppl\", \"Region\"]\n",
    "    df = pd.DataFrame(data, columns = columns)\n",
    "\n",
    "    #convert object datatype to float/int datatypes, except country and region\n",
    "    for col in df.columns[1:16]:\n",
    "        df[col] = pd.to_numeric(df[col], errors='coerce')\n",
    "    df = df.fillna(0)\n",
    "    df = df.sort_values(\"Total Cases\", ascending=False).reset_index(drop=True)\n",
    "    # Saving data to csv file\n",
    "    df.to_csv(fileName)\n",
    "    print(\"Sucessful\")"
   ]
  },
  {
   "cell_type": "code",
   "execution_count": 3,
   "metadata": {},
   "outputs": [],
   "source": [
    "fileName             = 'CoronaVirusDate20200918.csv'\n",
    "fileName_yesterday   = 'CoronaVirusDate20200917.csv'\n",
    "fileName_2daysbefore = 'CoronaVirusDate20200916.csv'"
   ]
  },
  {
   "cell_type": "code",
   "execution_count": 4,
   "metadata": {},
   "outputs": [
    {
     "name": "stdout",
     "output_type": "stream",
     "text": [
      "Sucessful\n"
     ]
    }
   ],
   "source": [
    "data_yesterday = gettingData('main_table_countries_yesterday')\n",
    "exportCSVfile(data_yesterday, fileName_yesterday)"
   ]
  },
  {
   "cell_type": "code",
   "execution_count": 5,
   "metadata": {},
   "outputs": [
    {
     "name": "stdout",
     "output_type": "stream",
     "text": [
      "Sucessful\n"
     ]
    }
   ],
   "source": [
    "data_2daysbefore = gettingData('main_table_countries_yesterday2')\n",
    "exportCSVfile(data_2daysbefore, fileName_2daysbefore)"
   ]
  },
  {
   "cell_type": "code",
   "execution_count": null,
   "metadata": {},
   "outputs": [],
   "source": []
  }
 ],
 "metadata": {
  "kernelspec": {
   "display_name": "Python 3",
   "language": "python",
   "name": "python3"
  },
  "language_info": {
   "codemirror_mode": {
    "name": "ipython",
    "version": 3
   },
   "file_extension": ".py",
   "mimetype": "text/x-python",
   "name": "python",
   "nbconvert_exporter": "python",
   "pygments_lexer": "ipython3",
   "version": "3.7.6"
  }
 },
 "nbformat": 4,
 "nbformat_minor": 4
}
